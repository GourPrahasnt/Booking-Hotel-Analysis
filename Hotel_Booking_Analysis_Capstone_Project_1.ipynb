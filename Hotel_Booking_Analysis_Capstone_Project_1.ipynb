{
  "nbformat": 4,
  "nbformat_minor": 0,
  "metadata": {
    "kernelspec": {
      "display_name": "Python 3",
      "language": "python",
      "name": "python3"
    },
    "language_info": {
      "codemirror_mode": {
        "name": "ipython",
        "version": 3
      },
      "file_extension": ".py",
      "mimetype": "text/x-python",
      "name": "python",
      "nbconvert_exporter": "python",
      "pygments_lexer": "ipython3",
      "version": "3.6.6"
    },
    "colab": {
      "name": "Hotel Booking Analysis - Capstone Project 1",
      "provenance": [],
      "collapsed_sections": [
        "Y06xIdG26kRF",
        "v6Wz6WKN9Pvk"
      ],
      "include_colab_link": true
    }
  },
  "cells": [
    {
      "cell_type": "markdown",
      "metadata": {
        "id": "view-in-github",
        "colab_type": "text"
      },
      "source": [
        "<a href=\"https://colab.research.google.com/github/GourPrahasnt/Booking-Hotel-Analysis/blob/main/Hotel_Booking_Analysis_Capstone_Project_1.ipynb\" target=\"_parent\"><img src=\"https://colab.research.google.com/assets/colab-badge.svg\" alt=\"Open In Colab\"/></a>"
      ]
    },
    {
      "cell_type": "markdown",
      "metadata": {
        "id": "Y06xIdG26kRF"
      },
      "source": [
        "## <b> Have you ever wondered when the best time of year to book a hotel room is? Or the optimal length of stay in order to get the best daily rate? What if you wanted to predict whether or not a hotel was likely to receive a disproportionately high number of special requests? This hotel booking dataset can help you explore those questions!\n",
        "\n",
        "## <b>This data set contains booking information for a city hotel and a resort hotel, and includes information such as when the booking was made, length of stay, the number of adults, children, and/or babies, and the number of available parking spaces, among other things. All personally identifying information has been removed from the data. </b>\n",
        "\n",
        "## <b> Explore and analyze the data to discover important factors that govern the bookings. </b>"
      ]
    },
    {
      "cell_type": "markdown",
      "source": [
        "# Importing required packages for data manipulation, clean and visualisation\n"
      ],
      "metadata": {
        "id": "0N8UuYZW-S7r"
      }
    },
    {
      "cell_type": "code",
      "metadata": {
        "id": "dByMsuzT8Tnw"
      },
      "source": [
        "# Importing required packages\n",
        "import pandas as pd\n",
        "import numpy as np\n",
        "import matplotlib.pyplot as plt\n",
        "import seaborn as sns"
      ],
      "execution_count": null,
      "outputs": []
    },
    {
      "cell_type": "markdown",
      "source": [
        "# Importing dataset"
      ],
      "metadata": {
        "id": "W-Htkef0-apQ"
      }
    },
    {
      "cell_type": "code",
      "source": [
        "from google.colab import drive\n",
        "drive.mount('/content/drive')"
      ],
      "metadata": {
        "colab": {
          "base_uri": "https://localhost:8080/"
        },
        "id": "qdG0UjJF-sqG",
        "outputId": "8fae1c89-adbc-4bb4-d2f8-b829394886c8"
      },
      "execution_count": null,
      "outputs": [
        {
          "output_type": "stream",
          "name": "stdout",
          "text": [
            "Mounted at /content/drive\n"
          ]
        }
      ]
    },
    {
      "cell_type": "code",
      "source": [
        "file_path = '/content/drive/MyDrive/Copy of Hotel Bookings (2).csv'\n",
        "hotel_df= pd.read_csv(file_path)"
      ],
      "metadata": {
        "id": "UzAbA6eT-Z9L"
      },
      "execution_count": null,
      "outputs": []
    },
    {
      "cell_type": "code",
      "source": [
        "hotel_df.info()"
      ],
      "metadata": {
        "colab": {
          "base_uri": "https://localhost:8080/"
        },
        "id": "1CYTwVq5_CNt",
        "outputId": "2c139559-a8a6-4952-a6d9-498f15f4eb76"
      },
      "execution_count": null,
      "outputs": [
        {
          "output_type": "stream",
          "name": "stdout",
          "text": [
            "<class 'pandas.core.frame.DataFrame'>\n",
            "RangeIndex: 119390 entries, 0 to 119389\n",
            "Data columns (total 32 columns):\n",
            " #   Column                          Non-Null Count   Dtype  \n",
            "---  ------                          --------------   -----  \n",
            " 0   hotel                           119390 non-null  object \n",
            " 1   is_canceled                     119390 non-null  int64  \n",
            " 2   lead_time                       119390 non-null  int64  \n",
            " 3   arrival_date_year               119390 non-null  int64  \n",
            " 4   arrival_date_month              119390 non-null  object \n",
            " 5   arrival_date_week_number        119390 non-null  int64  \n",
            " 6   arrival_date_day_of_month       119390 non-null  int64  \n",
            " 7   stays_in_weekend_nights         119390 non-null  int64  \n",
            " 8   stays_in_week_nights            119390 non-null  int64  \n",
            " 9   adults                          119390 non-null  int64  \n",
            " 10  children                        119386 non-null  float64\n",
            " 11  babies                          119390 non-null  int64  \n",
            " 12  meal                            119390 non-null  object \n",
            " 13  country                         118902 non-null  object \n",
            " 14  market_segment                  119390 non-null  object \n",
            " 15  distribution_channel            119390 non-null  object \n",
            " 16  is_repeated_guest               119390 non-null  int64  \n",
            " 17  previous_cancellations          119390 non-null  int64  \n",
            " 18  previous_bookings_not_canceled  119390 non-null  int64  \n",
            " 19  reserved_room_type              119390 non-null  object \n",
            " 20  assigned_room_type              119390 non-null  object \n",
            " 21  booking_changes                 119390 non-null  int64  \n",
            " 22  deposit_type                    119390 non-null  object \n",
            " 23  agent                           103050 non-null  float64\n",
            " 24  company                         6797 non-null    float64\n",
            " 25  days_in_waiting_list            119390 non-null  int64  \n",
            " 26  customer_type                   119390 non-null  object \n",
            " 27  adr                             119390 non-null  float64\n",
            " 28  required_car_parking_spaces     119390 non-null  int64  \n",
            " 29  total_of_special_requests       119390 non-null  int64  \n",
            " 30  reservation_status              119390 non-null  object \n",
            " 31  reservation_status_date         119390 non-null  object \n",
            "dtypes: float64(4), int64(16), object(12)\n",
            "memory usage: 29.1+ MB\n"
          ]
        }
      ]
    },
    {
      "cell_type": "code",
      "source": [
        "hotel_df.shape"
      ],
      "metadata": {
        "colab": {
          "base_uri": "https://localhost:8080/"
        },
        "id": "_Qy4aEoW_EPv",
        "outputId": "0f3ea14b-c224-4c54-981b-91fe16b4b045"
      },
      "execution_count": null,
      "outputs": [
        {
          "output_type": "execute_result",
          "data": {
            "text/plain": [
              "(119390, 32)"
            ]
          },
          "metadata": {},
          "execution_count": 8
        }
      ]
    },
    {
      "cell_type": "markdown",
      "source": [
        "##count how many NaN or Null values we have"
      ],
      "metadata": {
        "id": "0KconGCF_RuJ"
      }
    },
    {
      "cell_type": "code",
      "source": [
        "hotel_df.isnull().sum()"
      ],
      "metadata": {
        "colab": {
          "base_uri": "https://localhost:8080/"
        },
        "id": "lPW8OjX__i2p",
        "outputId": "86c1a6b5-a348-416f-df9d-d1992ea0f738"
      },
      "execution_count": null,
      "outputs": [
        {
          "output_type": "execute_result",
          "data": {
            "text/plain": [
              "hotel                                  0\n",
              "is_canceled                            0\n",
              "lead_time                              0\n",
              "arrival_date_year                      0\n",
              "arrival_date_month                     0\n",
              "arrival_date_week_number               0\n",
              "arrival_date_day_of_month              0\n",
              "stays_in_weekend_nights                0\n",
              "stays_in_week_nights                   0\n",
              "adults                                 0\n",
              "children                               4\n",
              "babies                                 0\n",
              "meal                                   0\n",
              "country                              488\n",
              "market_segment                         0\n",
              "distribution_channel                   0\n",
              "is_repeated_guest                      0\n",
              "previous_cancellations                 0\n",
              "previous_bookings_not_canceled         0\n",
              "reserved_room_type                     0\n",
              "assigned_room_type                     0\n",
              "booking_changes                        0\n",
              "deposit_type                           0\n",
              "agent                              16340\n",
              "company                           112593\n",
              "days_in_waiting_list                   0\n",
              "customer_type                          0\n",
              "adr                                    0\n",
              "required_car_parking_spaces            0\n",
              "total_of_special_requests              0\n",
              "reservation_status                     0\n",
              "reservation_status_date                0\n",
              "dtype: int64"
            ]
          },
          "metadata": {},
          "execution_count": 7
        }
      ]
    },
    {
      "cell_type": "markdown",
      "source": [
        "we have quite alot of NaN values in company, so removing company attribute will be a better idea from our given hotel dataset."
      ],
      "metadata": {
        "id": "r-CL6BmH_rXl"
      }
    },
    {
      "cell_type": "markdown",
      "source": [
        "Also removing those column which are not useful for us"
      ],
      "metadata": {
        "id": "rIDweLs2AYbV"
      }
    },
    {
      "cell_type": "code",
      "source": [
        "#drop the columns which are not useful for us\n",
        "hotel_df.drop(columns=['company','arrival_date_week_number','reservation_status_date'],inplace = True)"
      ],
      "metadata": {
        "id": "eUoxYKJ8APbO"
      },
      "execution_count": null,
      "outputs": []
    },
    {
      "cell_type": "code",
      "source": [
        "hotel_df.head(10)"
      ],
      "metadata": {
        "colab": {
          "base_uri": "https://localhost:8080/",
          "height": 630
        },
        "id": "7WE2vyG3AhPP",
        "outputId": "d130298c-f483-4b41-cf83-c43b7517780f"
      },
      "execution_count": null,
      "outputs": [
        {
          "output_type": "execute_result",
          "data": {
            "text/plain": [
              "          hotel  is_canceled  lead_time  arrival_date_year arrival_date_month  \\\n",
              "0  Resort Hotel            0        342               2015               July   \n",
              "1  Resort Hotel            0        737               2015               July   \n",
              "2  Resort Hotel            0          7               2015               July   \n",
              "3  Resort Hotel            0         13               2015               July   \n",
              "4  Resort Hotel            0         14               2015               July   \n",
              "5  Resort Hotel            0         14               2015               July   \n",
              "6  Resort Hotel            0          0               2015               July   \n",
              "7  Resort Hotel            0          9               2015               July   \n",
              "8  Resort Hotel            1         85               2015               July   \n",
              "9  Resort Hotel            1         75               2015               July   \n",
              "\n",
              "   arrival_date_day_of_month  stays_in_weekend_nights  stays_in_week_nights  \\\n",
              "0                          1                        0                     0   \n",
              "1                          1                        0                     0   \n",
              "2                          1                        0                     1   \n",
              "3                          1                        0                     1   \n",
              "4                          1                        0                     2   \n",
              "5                          1                        0                     2   \n",
              "6                          1                        0                     2   \n",
              "7                          1                        0                     2   \n",
              "8                          1                        0                     3   \n",
              "9                          1                        0                     3   \n",
              "\n",
              "   adults  children  ...  assigned_room_type booking_changes deposit_type  \\\n",
              "0       2       0.0  ...                   C               3   No Deposit   \n",
              "1       2       0.0  ...                   C               4   No Deposit   \n",
              "2       1       0.0  ...                   C               0   No Deposit   \n",
              "3       1       0.0  ...                   A               0   No Deposit   \n",
              "4       2       0.0  ...                   A               0   No Deposit   \n",
              "5       2       0.0  ...                   A               0   No Deposit   \n",
              "6       2       0.0  ...                   C               0   No Deposit   \n",
              "7       2       0.0  ...                   C               0   No Deposit   \n",
              "8       2       0.0  ...                   A               0   No Deposit   \n",
              "9       2       0.0  ...                   D               0   No Deposit   \n",
              "\n",
              "   agent days_in_waiting_list  customer_type    adr  \\\n",
              "0    NaN                    0      Transient    0.0   \n",
              "1    NaN                    0      Transient    0.0   \n",
              "2    NaN                    0      Transient   75.0   \n",
              "3  304.0                    0      Transient   75.0   \n",
              "4  240.0                    0      Transient   98.0   \n",
              "5  240.0                    0      Transient   98.0   \n",
              "6    NaN                    0      Transient  107.0   \n",
              "7  303.0                    0      Transient  103.0   \n",
              "8  240.0                    0      Transient   82.0   \n",
              "9   15.0                    0      Transient  105.5   \n",
              "\n",
              "   required_car_parking_spaces total_of_special_requests reservation_status  \n",
              "0                            0                         0          Check-Out  \n",
              "1                            0                         0          Check-Out  \n",
              "2                            0                         0          Check-Out  \n",
              "3                            0                         0          Check-Out  \n",
              "4                            0                         1          Check-Out  \n",
              "5                            0                         1          Check-Out  \n",
              "6                            0                         0          Check-Out  \n",
              "7                            0                         1          Check-Out  \n",
              "8                            0                         1           Canceled  \n",
              "9                            0                         0           Canceled  \n",
              "\n",
              "[10 rows x 29 columns]"
            ],
            "text/html": [
              "\n",
              "  <div id=\"df-eb793626-bfbe-4dea-9913-462e59e5a4aa\">\n",
              "    <div class=\"colab-df-container\">\n",
              "      <div>\n",
              "<style scoped>\n",
              "    .dataframe tbody tr th:only-of-type {\n",
              "        vertical-align: middle;\n",
              "    }\n",
              "\n",
              "    .dataframe tbody tr th {\n",
              "        vertical-align: top;\n",
              "    }\n",
              "\n",
              "    .dataframe thead th {\n",
              "        text-align: right;\n",
              "    }\n",
              "</style>\n",
              "<table border=\"1\" class=\"dataframe\">\n",
              "  <thead>\n",
              "    <tr style=\"text-align: right;\">\n",
              "      <th></th>\n",
              "      <th>hotel</th>\n",
              "      <th>is_canceled</th>\n",
              "      <th>lead_time</th>\n",
              "      <th>arrival_date_year</th>\n",
              "      <th>arrival_date_month</th>\n",
              "      <th>arrival_date_day_of_month</th>\n",
              "      <th>stays_in_weekend_nights</th>\n",
              "      <th>stays_in_week_nights</th>\n",
              "      <th>adults</th>\n",
              "      <th>children</th>\n",
              "      <th>...</th>\n",
              "      <th>assigned_room_type</th>\n",
              "      <th>booking_changes</th>\n",
              "      <th>deposit_type</th>\n",
              "      <th>agent</th>\n",
              "      <th>days_in_waiting_list</th>\n",
              "      <th>customer_type</th>\n",
              "      <th>adr</th>\n",
              "      <th>required_car_parking_spaces</th>\n",
              "      <th>total_of_special_requests</th>\n",
              "      <th>reservation_status</th>\n",
              "    </tr>\n",
              "  </thead>\n",
              "  <tbody>\n",
              "    <tr>\n",
              "      <th>0</th>\n",
              "      <td>Resort Hotel</td>\n",
              "      <td>0</td>\n",
              "      <td>342</td>\n",
              "      <td>2015</td>\n",
              "      <td>July</td>\n",
              "      <td>1</td>\n",
              "      <td>0</td>\n",
              "      <td>0</td>\n",
              "      <td>2</td>\n",
              "      <td>0.0</td>\n",
              "      <td>...</td>\n",
              "      <td>C</td>\n",
              "      <td>3</td>\n",
              "      <td>No Deposit</td>\n",
              "      <td>NaN</td>\n",
              "      <td>0</td>\n",
              "      <td>Transient</td>\n",
              "      <td>0.0</td>\n",
              "      <td>0</td>\n",
              "      <td>0</td>\n",
              "      <td>Check-Out</td>\n",
              "    </tr>\n",
              "    <tr>\n",
              "      <th>1</th>\n",
              "      <td>Resort Hotel</td>\n",
              "      <td>0</td>\n",
              "      <td>737</td>\n",
              "      <td>2015</td>\n",
              "      <td>July</td>\n",
              "      <td>1</td>\n",
              "      <td>0</td>\n",
              "      <td>0</td>\n",
              "      <td>2</td>\n",
              "      <td>0.0</td>\n",
              "      <td>...</td>\n",
              "      <td>C</td>\n",
              "      <td>4</td>\n",
              "      <td>No Deposit</td>\n",
              "      <td>NaN</td>\n",
              "      <td>0</td>\n",
              "      <td>Transient</td>\n",
              "      <td>0.0</td>\n",
              "      <td>0</td>\n",
              "      <td>0</td>\n",
              "      <td>Check-Out</td>\n",
              "    </tr>\n",
              "    <tr>\n",
              "      <th>2</th>\n",
              "      <td>Resort Hotel</td>\n",
              "      <td>0</td>\n",
              "      <td>7</td>\n",
              "      <td>2015</td>\n",
              "      <td>July</td>\n",
              "      <td>1</td>\n",
              "      <td>0</td>\n",
              "      <td>1</td>\n",
              "      <td>1</td>\n",
              "      <td>0.0</td>\n",
              "      <td>...</td>\n",
              "      <td>C</td>\n",
              "      <td>0</td>\n",
              "      <td>No Deposit</td>\n",
              "      <td>NaN</td>\n",
              "      <td>0</td>\n",
              "      <td>Transient</td>\n",
              "      <td>75.0</td>\n",
              "      <td>0</td>\n",
              "      <td>0</td>\n",
              "      <td>Check-Out</td>\n",
              "    </tr>\n",
              "    <tr>\n",
              "      <th>3</th>\n",
              "      <td>Resort Hotel</td>\n",
              "      <td>0</td>\n",
              "      <td>13</td>\n",
              "      <td>2015</td>\n",
              "      <td>July</td>\n",
              "      <td>1</td>\n",
              "      <td>0</td>\n",
              "      <td>1</td>\n",
              "      <td>1</td>\n",
              "      <td>0.0</td>\n",
              "      <td>...</td>\n",
              "      <td>A</td>\n",
              "      <td>0</td>\n",
              "      <td>No Deposit</td>\n",
              "      <td>304.0</td>\n",
              "      <td>0</td>\n",
              "      <td>Transient</td>\n",
              "      <td>75.0</td>\n",
              "      <td>0</td>\n",
              "      <td>0</td>\n",
              "      <td>Check-Out</td>\n",
              "    </tr>\n",
              "    <tr>\n",
              "      <th>4</th>\n",
              "      <td>Resort Hotel</td>\n",
              "      <td>0</td>\n",
              "      <td>14</td>\n",
              "      <td>2015</td>\n",
              "      <td>July</td>\n",
              "      <td>1</td>\n",
              "      <td>0</td>\n",
              "      <td>2</td>\n",
              "      <td>2</td>\n",
              "      <td>0.0</td>\n",
              "      <td>...</td>\n",
              "      <td>A</td>\n",
              "      <td>0</td>\n",
              "      <td>No Deposit</td>\n",
              "      <td>240.0</td>\n",
              "      <td>0</td>\n",
              "      <td>Transient</td>\n",
              "      <td>98.0</td>\n",
              "      <td>0</td>\n",
              "      <td>1</td>\n",
              "      <td>Check-Out</td>\n",
              "    </tr>\n",
              "    <tr>\n",
              "      <th>5</th>\n",
              "      <td>Resort Hotel</td>\n",
              "      <td>0</td>\n",
              "      <td>14</td>\n",
              "      <td>2015</td>\n",
              "      <td>July</td>\n",
              "      <td>1</td>\n",
              "      <td>0</td>\n",
              "      <td>2</td>\n",
              "      <td>2</td>\n",
              "      <td>0.0</td>\n",
              "      <td>...</td>\n",
              "      <td>A</td>\n",
              "      <td>0</td>\n",
              "      <td>No Deposit</td>\n",
              "      <td>240.0</td>\n",
              "      <td>0</td>\n",
              "      <td>Transient</td>\n",
              "      <td>98.0</td>\n",
              "      <td>0</td>\n",
              "      <td>1</td>\n",
              "      <td>Check-Out</td>\n",
              "    </tr>\n",
              "    <tr>\n",
              "      <th>6</th>\n",
              "      <td>Resort Hotel</td>\n",
              "      <td>0</td>\n",
              "      <td>0</td>\n",
              "      <td>2015</td>\n",
              "      <td>July</td>\n",
              "      <td>1</td>\n",
              "      <td>0</td>\n",
              "      <td>2</td>\n",
              "      <td>2</td>\n",
              "      <td>0.0</td>\n",
              "      <td>...</td>\n",
              "      <td>C</td>\n",
              "      <td>0</td>\n",
              "      <td>No Deposit</td>\n",
              "      <td>NaN</td>\n",
              "      <td>0</td>\n",
              "      <td>Transient</td>\n",
              "      <td>107.0</td>\n",
              "      <td>0</td>\n",
              "      <td>0</td>\n",
              "      <td>Check-Out</td>\n",
              "    </tr>\n",
              "    <tr>\n",
              "      <th>7</th>\n",
              "      <td>Resort Hotel</td>\n",
              "      <td>0</td>\n",
              "      <td>9</td>\n",
              "      <td>2015</td>\n",
              "      <td>July</td>\n",
              "      <td>1</td>\n",
              "      <td>0</td>\n",
              "      <td>2</td>\n",
              "      <td>2</td>\n",
              "      <td>0.0</td>\n",
              "      <td>...</td>\n",
              "      <td>C</td>\n",
              "      <td>0</td>\n",
              "      <td>No Deposit</td>\n",
              "      <td>303.0</td>\n",
              "      <td>0</td>\n",
              "      <td>Transient</td>\n",
              "      <td>103.0</td>\n",
              "      <td>0</td>\n",
              "      <td>1</td>\n",
              "      <td>Check-Out</td>\n",
              "    </tr>\n",
              "    <tr>\n",
              "      <th>8</th>\n",
              "      <td>Resort Hotel</td>\n",
              "      <td>1</td>\n",
              "      <td>85</td>\n",
              "      <td>2015</td>\n",
              "      <td>July</td>\n",
              "      <td>1</td>\n",
              "      <td>0</td>\n",
              "      <td>3</td>\n",
              "      <td>2</td>\n",
              "      <td>0.0</td>\n",
              "      <td>...</td>\n",
              "      <td>A</td>\n",
              "      <td>0</td>\n",
              "      <td>No Deposit</td>\n",
              "      <td>240.0</td>\n",
              "      <td>0</td>\n",
              "      <td>Transient</td>\n",
              "      <td>82.0</td>\n",
              "      <td>0</td>\n",
              "      <td>1</td>\n",
              "      <td>Canceled</td>\n",
              "    </tr>\n",
              "    <tr>\n",
              "      <th>9</th>\n",
              "      <td>Resort Hotel</td>\n",
              "      <td>1</td>\n",
              "      <td>75</td>\n",
              "      <td>2015</td>\n",
              "      <td>July</td>\n",
              "      <td>1</td>\n",
              "      <td>0</td>\n",
              "      <td>3</td>\n",
              "      <td>2</td>\n",
              "      <td>0.0</td>\n",
              "      <td>...</td>\n",
              "      <td>D</td>\n",
              "      <td>0</td>\n",
              "      <td>No Deposit</td>\n",
              "      <td>15.0</td>\n",
              "      <td>0</td>\n",
              "      <td>Transient</td>\n",
              "      <td>105.5</td>\n",
              "      <td>0</td>\n",
              "      <td>0</td>\n",
              "      <td>Canceled</td>\n",
              "    </tr>\n",
              "  </tbody>\n",
              "</table>\n",
              "<p>10 rows × 29 columns</p>\n",
              "</div>\n",
              "      <button class=\"colab-df-convert\" onclick=\"convertToInteractive('df-eb793626-bfbe-4dea-9913-462e59e5a4aa')\"\n",
              "              title=\"Convert this dataframe to an interactive table.\"\n",
              "              style=\"display:none;\">\n",
              "        \n",
              "  <svg xmlns=\"http://www.w3.org/2000/svg\" height=\"24px\"viewBox=\"0 0 24 24\"\n",
              "       width=\"24px\">\n",
              "    <path d=\"M0 0h24v24H0V0z\" fill=\"none\"/>\n",
              "    <path d=\"M18.56 5.44l.94 2.06.94-2.06 2.06-.94-2.06-.94-.94-2.06-.94 2.06-2.06.94zm-11 1L8.5 8.5l.94-2.06 2.06-.94-2.06-.94L8.5 2.5l-.94 2.06-2.06.94zm10 10l.94 2.06.94-2.06 2.06-.94-2.06-.94-.94-2.06-.94 2.06-2.06.94z\"/><path d=\"M17.41 7.96l-1.37-1.37c-.4-.4-.92-.59-1.43-.59-.52 0-1.04.2-1.43.59L10.3 9.45l-7.72 7.72c-.78.78-.78 2.05 0 2.83L4 21.41c.39.39.9.59 1.41.59.51 0 1.02-.2 1.41-.59l7.78-7.78 2.81-2.81c.8-.78.8-2.07 0-2.86zM5.41 20L4 18.59l7.72-7.72 1.47 1.35L5.41 20z\"/>\n",
              "  </svg>\n",
              "      </button>\n",
              "      \n",
              "  <style>\n",
              "    .colab-df-container {\n",
              "      display:flex;\n",
              "      flex-wrap:wrap;\n",
              "      gap: 12px;\n",
              "    }\n",
              "\n",
              "    .colab-df-convert {\n",
              "      background-color: #E8F0FE;\n",
              "      border: none;\n",
              "      border-radius: 50%;\n",
              "      cursor: pointer;\n",
              "      display: none;\n",
              "      fill: #1967D2;\n",
              "      height: 32px;\n",
              "      padding: 0 0 0 0;\n",
              "      width: 32px;\n",
              "    }\n",
              "\n",
              "    .colab-df-convert:hover {\n",
              "      background-color: #E2EBFA;\n",
              "      box-shadow: 0px 1px 2px rgba(60, 64, 67, 0.3), 0px 1px 3px 1px rgba(60, 64, 67, 0.15);\n",
              "      fill: #174EA6;\n",
              "    }\n",
              "\n",
              "    [theme=dark] .colab-df-convert {\n",
              "      background-color: #3B4455;\n",
              "      fill: #D2E3FC;\n",
              "    }\n",
              "\n",
              "    [theme=dark] .colab-df-convert:hover {\n",
              "      background-color: #434B5C;\n",
              "      box-shadow: 0px 1px 3px 1px rgba(0, 0, 0, 0.15);\n",
              "      filter: drop-shadow(0px 1px 2px rgba(0, 0, 0, 0.3));\n",
              "      fill: #FFFFFF;\n",
              "    }\n",
              "  </style>\n",
              "\n",
              "      <script>\n",
              "        const buttonEl =\n",
              "          document.querySelector('#df-eb793626-bfbe-4dea-9913-462e59e5a4aa button.colab-df-convert');\n",
              "        buttonEl.style.display =\n",
              "          google.colab.kernel.accessAllowed ? 'block' : 'none';\n",
              "\n",
              "        async function convertToInteractive(key) {\n",
              "          const element = document.querySelector('#df-eb793626-bfbe-4dea-9913-462e59e5a4aa');\n",
              "          const dataTable =\n",
              "            await google.colab.kernel.invokeFunction('convertToInteractive',\n",
              "                                                     [key], {});\n",
              "          if (!dataTable) return;\n",
              "\n",
              "          const docLinkHtml = 'Like what you see? Visit the ' +\n",
              "            '<a target=\"_blank\" href=https://colab.research.google.com/notebooks/data_table.ipynb>data table notebook</a>'\n",
              "            + ' to learn more about interactive tables.';\n",
              "          element.innerHTML = '';\n",
              "          dataTable['output_type'] = 'display_data';\n",
              "          await google.colab.output.renderOutput(dataTable, element);\n",
              "          const docLink = document.createElement('div');\n",
              "          docLink.innerHTML = docLinkHtml;\n",
              "          element.appendChild(docLink);\n",
              "        }\n",
              "      </script>\n",
              "    </div>\n",
              "  </div>\n",
              "  "
            ]
          },
          "metadata": {},
          "execution_count": 11
        }
      ]
    },
    {
      "cell_type": "markdown",
      "source": [
        "#**Univariate Analysis**"
      ],
      "metadata": {
        "id": "CydB17afAqNE"
      }
    },
    {
      "cell_type": "markdown",
      "source": [
        "By using univariate analysis,we will try to answer following qustions-"
      ],
      "metadata": {
        "id": "oYhTL4TjA6DE"
      }
    },
    {
      "cell_type": "markdown",
      "source": [
        "## Q.1 From which country most of the guest are coming?"
      ],
      "metadata": {
        "id": "NkCy1shENJ1O"
      }
    },
    {
      "cell_type": "code",
      "source": [
        "grp_by_country = hotel_df.groupby('country')\n",
        "d2 = pd.DataFrame(grp_by_country.size()).rename(columns = {0:'no. of bookings'}).sort_values('no. of bookings', ascending = False)\n",
        "d2 = d2[:10]\n",
        "sns.barplot(x = d2.index, y = d2['no. of bookings'])\n",
        "plt.show()"
      ],
      "metadata": {
        "id": "_fAPwz2sNBb1",
        "outputId": "677f17cd-de4d-498a-a57b-848cd85ce7aa",
        "colab": {
          "base_uri": "https://localhost:8080/",
          "height": 279
        }
      },
      "execution_count": null,
      "outputs": [
        {
          "output_type": "display_data",
          "data": {
            "text/plain": [
              "<Figure size 432x288 with 1 Axes>"
            ],
            "image/png": "[encoded data removed]"
          },
          "metadata": {
            "needs_background": "light"
          }
        }
      ]
    },
    {
      "cell_type": "markdown",
      "source": [
        "we can see in above graph that PRT,GBR,FRA are the countries whose number of bookings are respectively more than other countries."
      ],
      "metadata": {
        "id": "Wy3-MGOUN9s7"
      }
    },
    {
      "cell_type": "markdown",
      "source": [
        "# Here we took some shortcut which is \n",
        "PRT-Portugal, GBR-United kingdom, FRA-France, ESP-spain."
      ],
      "metadata": {
        "id": "vY9fukY1wtjg"
      }
    },
    {
      "cell_type": "markdown",
      "source": [
        "## Q.2 Which room type is in most demand and which room type generates highest Average daily revenue?"
      ],
      "metadata": {
        "id": "eUuC4nXSL-_f"
      }
    },
    {
      "cell_type": "code",
      "source": [
        "plt.figure(figsize=(40,5))\n",
        "plt.subplot(1,2,1)\n",
        "sns.countplot('assigned_room_type',data = hotel_df)"
      ],
      "metadata": {
        "id": "O7Ds5mD8Md2v",
        "outputId": "bd7ee19e-a138-4dde-e056-7182fedc77a2",
        "colab": {
          "base_uri": "https://localhost:8080/",
          "height": 407
        }
      },
      "execution_count": null,
      "outputs": [
        {
          "output_type": "stream",
          "name": "stderr",
          "text": [
            "/usr/local/lib/python3.7/dist-packages/seaborn/_decorators.py:43: FutureWarning: Pass the following variable as a keyword arg: x. From version 0.12, the only valid positional argument will be `data`, and passing other arguments without an explicit keyword will result in an error or misinterpretation.\n",
            "  FutureWarning\n"
          ]
        },
        {
          "output_type": "execute_result",
          "data": {
            "text/plain": [
              "<matplotlib.axes._subplots.AxesSubplot at 0x7f315cad4710>"
            ]
          },
          "metadata": {},
          "execution_count": 13
        },
        {
          "output_type": "display_data",
          "data": {
            "text/plain": [
              "<Figure size 2880x360 with 1 Axes>"
            ],
            "image/png": "[encoded data removed]"
          },
          "metadata": {
            "needs_background": "light"
          }
        }
      ]
    },
    {
      "cell_type": "markdown",
      "source": [
        "So here we found that \"A\" is most assigned room type and it is also most preferred room of the hotel."
      ],
      "metadata": {
        "id": "5Vp1xUtxMmVT"
      }
    },
    {
      "cell_type": "markdown",
      "source": [
        "## Q.3 Which agent does highest booking of hotels?"
      ],
      "metadata": {
        "id": "SBpoTjFRFRIk"
      }
    },
    {
      "cell_type": "code",
      "source": [
        "d1 = pd.DataFrame(hotel_df['agent'].value_counts()).reset_index().rename(columns = {'index':'agent','agent':'num_of_bookings'}).sort_values(by = 'num_of_bookings', ascending = False)\n",
        "d1.drop(d1[d1['agent'] == 0].index, inplace = True)            \n",
        "d1 = d1[:10]                                                   \n",
        "plt.figure(figsize = (10,5))\n",
        "sns.barplot(x = 'agent', y = 'num_of_bookings', data = d1, order = d1.sort_values('num_of_bookings', ascending = False).agent)"
      ],
      "metadata": {
        "id": "Dq6graNsEsuD",
        "colab": {
          "base_uri": "https://localhost:8080/",
          "height": 351
        },
        "outputId": "5e00f52a-cc8e-4290-f094-f73161f6115e"
      },
      "execution_count": null,
      "outputs": [
        {
          "output_type": "execute_result",
          "data": {
            "text/plain": [
              "<matplotlib.axes._subplots.AxesSubplot at 0x7f315d001850>"
            ]
          },
          "metadata": {},
          "execution_count": 14
        },
        {
          "output_type": "display_data",
          "data": {
            "text/plain": [
              "<Figure size 720x360 with 1 Axes>"
            ],
            "image/png": "[encoded data removed]"
          },
          "metadata": {
            "needs_background": "light"
          }
        }
      ]
    },
    {
      "cell_type": "markdown",
      "source": [
        "So we can say through above graph agent no. 9.0 has done most of the booking."
      ],
      "metadata": {
        "id": "sSA-KHIGezCk"
      }
    },
    {
      "cell_type": "markdown",
      "source": [
        "## Q.4 What is most preferred meal by customer?"
      ],
      "metadata": {
        "id": "F8XgdSz5OgLl"
      }
    },
    {
      "cell_type": "code",
      "source": [
        "#meals prefrene for both the hotel\n",
        "meals_df = hotel_df.groupby(['hotel'])['meal'].value_counts()"
      ],
      "metadata": {
        "id": "aXvM1MssC235"
      },
      "execution_count": null,
      "outputs": []
    },
    {
      "cell_type": "code",
      "source": [
        "#ploat the chart\n",
        "plt.rcParams['figure.figsize'] = (20,5)\n",
        "meals_df.plot(kind = 'bar')\n",
        "plt.title('meals')\n",
        "plt.ylabel('number of booking')\n",
        "plt.xlabel('meals')"
      ],
      "metadata": {
        "colab": {
          "base_uri": "https://localhost:8080/",
          "height": 484
        },
        "id": "sfeWmnyoC9XF",
        "outputId": "66f4efe6-3eba-450f-fc0f-25f6c379808c"
      },
      "execution_count": null,
      "outputs": [
        {
          "output_type": "execute_result",
          "data": {
            "text/plain": [
              "Text(0.5, 0, 'meals')"
            ]
          },
          "metadata": {},
          "execution_count": 16
        },
        {
          "output_type": "display_data",
          "data": {
            "text/plain": [
              "<Figure size 1440x360 with 1 Axes>"
            ],
            "image/png": "[encoded data removed]"
          },
          "metadata": {
            "needs_background": "light"
          }
        }
      ]
    },
    {
      "cell_type": "markdown",
      "source": [
        "* BB = Bed and Breakfast\n",
        "* SC = No meal package\n",
        "* HB = Half board (breakfast and one other meal – usually dinner)\n",
        "* FB = Full board (breakfast, lunch and dinner)"
      ],
      "metadata": {
        "id": "cxMT38lXDCaK"
      }
    },
    {
      "cell_type": "markdown",
      "source": [
        "from the above that it looks like BB(bed and breakfast) is the most preferred meal type for the guest of hotels."
      ],
      "metadata": {
        "id": "WkjqZN3cDo6q"
      }
    },
    {
      "cell_type": "markdown",
      "source": [
        "# **Hotel Wise Analysis**"
      ],
      "metadata": {
        "id": "1CttI3zWEKvK"
      }
    },
    {
      "cell_type": "markdown",
      "source": [
        "while doing Hotel wise Analysis of given hotel booking dataset,we answerd following qustions-"
      ],
      "metadata": {
        "id": "_3Jni5sgFz08"
      }
    },
    {
      "cell_type": "markdown",
      "source": [
        "## Q.1 What is the percentage of bookings in each hotel?"
      ],
      "metadata": {
        "id": "xoU3pvs5F_3V"
      }
    },
    {
      "cell_type": "code",
      "source": [
        "plt.rcParams['figure.figsize'] = 9,8\n",
        "labels = hotel_df['hotel'].value_counts().index.tolist()\n",
        "size = hotel_df['hotel'].value_counts().tolist()\n",
        "explode = (0, 0.05)\n",
        "colors = ['blue','lightblue']\n",
        "plt.pie(size, explode=explode, labels=labels, colors=colors, autopct='%1.1f%%',startangle=80, textprops={'fontsize': 14})"
      ],
      "metadata": {
        "colab": {
          "base_uri": "https://localhost:8080/",
          "height": 570
        },
        "id": "mVkTfD3PGYLC",
        "outputId": "4f9998c6-67cb-40b4-a801-73c85d404cce"
      },
      "execution_count": null,
      "outputs": [
        {
          "output_type": "execute_result",
          "data": {
            "text/plain": [
              "([<matplotlib.patches.Wedge at 0x7f315c8d0a90>,\n",
              "  <matplotlib.patches.Wedge at 0x7f315c8dc250>],\n",
              " [Text(-1.0362439855352659, -0.36905067733576613, 'City Hotel'),\n",
              "  Text(1.0833459848777778, 0.38582570812375633, 'Resort Hotel')],\n",
              " [Text(-0.565223992110145, -0.2013003694558724, '66.4%'),\n",
              "  Text(0.6123259914526569, 0.21807540024386224, '33.6%')])"
            ]
          },
          "metadata": {},
          "execution_count": 17
        },
        {
          "output_type": "display_data",
          "data": {
            "text/plain": [
              "<Figure size 648x576 with 1 Axes>"
            ],
            "image/png": "[encoded data removed]"
          },
          "metadata": {}
        }
      ]
    },
    {
      "cell_type": "markdown",
      "source": [
        "we can clearly see that most of the guests preferrd City hotel than Resort hotel."
      ],
      "metadata": {
        "id": "CV1Vlz_kGmnr"
      }
    },
    {
      "cell_type": "markdown",
      "source": [
        "66% is City Hotel and 34% is Resort Hotel."
      ],
      "metadata": {
        "id": "bNY6o5HiHQ9K"
      }
    },
    {
      "cell_type": "markdown",
      "source": [
        "##Q.2 which hotel has higher lead time?"
      ],
      "metadata": {
        "id": "2iVfjcZePe4Z"
      }
    },
    {
      "cell_type": "code",
      "source": [
        "plt.figure(figsize=(20,5))\n",
        "sns.boxplot(x = hotel_df['lead_time'],color = 'blue')"
      ],
      "metadata": {
        "id": "RSt8iZxKPk94",
        "colab": {
          "base_uri": "https://localhost:8080/",
          "height": 352
        },
        "outputId": "6b1174f4-7a41-41d9-bf68-2975390b33cc"
      },
      "execution_count": null,
      "outputs": [
        {
          "output_type": "execute_result",
          "data": {
            "text/plain": [
              "<matplotlib.axes._subplots.AxesSubplot at 0x7f315c913350>"
            ]
          },
          "metadata": {},
          "execution_count": 18
        },
        {
          "output_type": "display_data",
          "data": {
            "text/plain": [
              "<Figure size 1440x360 with 1 Axes>"
            ],
            "image/png": "[encoded data removed]"
          },
          "metadata": {
            "needs_background": "light"
          }
        }
      ]
    },
    {
      "cell_type": "markdown",
      "source": [
        "According to the analysis of lead time in the given hotel booking dataset,we can say that in the period of three year we have soo many lead times values."
      ],
      "metadata": {
        "id": "tJhmO0LqOwDa"
      }
    },
    {
      "cell_type": "markdown",
      "source": [
        "##Q.3 What is most preferred stay weekend night length in each hotel?"
      ],
      "metadata": {
        "id": "z5o-OyZoQHKj"
      }
    },
    {
      "cell_type": "code",
      "source": [
        "# Firstly filter the data\n",
        "filter = hotel_df[hotel_df['is_canceled']==0]"
      ],
      "metadata": {
        "id": "UDv0eSvqQXnX"
      },
      "execution_count": null,
      "outputs": []
    },
    {
      "cell_type": "code",
      "source": [
        "hotel_df['total_nights'] = hotel_df['stays_in_weekend_nights'] + hotel_df['stays_in_week_nights']"
      ],
      "metadata": {
        "id": "xTwKQJloQf5m"
      },
      "execution_count": null,
      "outputs": []
    },
    {
      "cell_type": "code",
      "source": [
        "stay = hotel_df.groupby(['total_nights', 'hotel']).agg('count').reset_index()\n",
        "stay = stay.iloc[:, :3]\n",
        "stay = stay.rename(columns={'is_canceled':'Number of stays'})\n"
      ],
      "metadata": {
        "id": "hI_y-vhsQrpK"
      },
      "execution_count": null,
      "outputs": []
    },
    {
      "cell_type": "code",
      "source": [
        "plt.figure(figsize = (20,5))\n",
        "sns.barplot(x = 'total_nights', y = 'Number of stays',data= stay,hue='hotel')"
      ],
      "metadata": {
        "id": "MDk9HnFTQuRG",
        "outputId": "20801211-6788-4728-e254-3390489fb8f1",
        "colab": {
          "base_uri": "https://localhost:8080/",
          "height": 352
        }
      },
      "execution_count": null,
      "outputs": [
        {
          "output_type": "execute_result",
          "data": {
            "text/plain": [
              "<matplotlib.axes._subplots.AxesSubplot at 0x7f315c86ab90>"
            ]
          },
          "metadata": {},
          "execution_count": 22
        },
        {
          "output_type": "display_data",
          "data": {
            "text/plain": [
              "<Figure size 1440x360 with 1 Axes>"
            ],
            "image/png": "[encoded data removed]"
          },
          "metadata": {
            "needs_background": "light"
          }
        }
      ]
    },
    {
      "cell_type": "markdown",
      "source": [
        "Acording to our analysis City hotel is the most preferred hotel for weekend night rather than Resort hotel and customer stays number of time in City hotel."
      ],
      "metadata": {
        "id": "7HPzQaN3Q1I9"
      }
    },
    {
      "cell_type": "markdown",
      "source": [
        "## Q.4 Which hotel has more number of repeated guest?"
      ],
      "metadata": {
        "id": "veeC0kxyHZvf"
      }
    },
    {
      "cell_type": "code",
      "source": [
        "plt.figure(figsize=(15,5))\n",
        "plt.subplot(1,2,1)\n",
        "sns.countplot('is_repeated_guest',hue = 'hotel',data = hotel_df)\n",
        "# Here hue refers to wheather the guest is repeated or not in hotel"
      ],
      "metadata": {
        "colab": {
          "base_uri": "https://localhost:8080/",
          "height": 407
        },
        "id": "H6N6LI_7Gj8K",
        "outputId": "1f2d2937-e755-4b49-bb1c-8b3e77703a4e"
      },
      "execution_count": null,
      "outputs": [
        {
          "output_type": "stream",
          "name": "stderr",
          "text": [
            "/usr/local/lib/python3.7/dist-packages/seaborn/_decorators.py:43: FutureWarning: Pass the following variable as a keyword arg: x. From version 0.12, the only valid positional argument will be `data`, and passing other arguments without an explicit keyword will result in an error or misinterpretation.\n",
            "  FutureWarning\n"
          ]
        },
        {
          "output_type": "execute_result",
          "data": {
            "text/plain": [
              "<matplotlib.axes._subplots.AxesSubplot at 0x7f315c86a750>"
            ]
          },
          "metadata": {},
          "execution_count": 23
        },
        {
          "output_type": "display_data",
          "data": {
            "text/plain": [
              "<Figure size 1080x360 with 1 Axes>"
            ],
            "image/png": "[encoded data removed]"
          },
          "metadata": {
            "needs_background": "light"
          }
        }
      ]
    },
    {
      "cell_type": "markdown",
      "source": [
        "In above graph,\n",
        "* 0 stands for not\n",
        "* 1 stands for yes"
      ],
      "metadata": {
        "id": "1dL35hjPUoyM"
      }
    },
    {
      "cell_type": "markdown",
      "source": [
        "So according to our analysis, we can say that City hotel has more number of repeated guest than Resort hotel,but if we talk about percentage wise analysis,repeated guest in Resort hotel is more than City hotel."
      ],
      "metadata": {
        "id": "IsUuQ3lIU12e"
      }
    },
    {
      "cell_type": "markdown",
      "source": [
        "# **Distribution Channel Wise Analysis**"
      ],
      "metadata": {
        "id": "Q0JhwMJ1YUre"
      }
    },
    {
      "cell_type": "markdown",
      "source": [
        "while doing Distribution channel wise Analysis of given hotel booking dataset,we answerd following qustions-"
      ],
      "metadata": {
        "id": "an2A27qNYq8A"
      }
    },
    {
      "cell_type": "markdown",
      "source": [
        "## Q.1 Which is the most common channel for hotels booking?"
      ],
      "metadata": {
        "id": "IP06sOZ6YtU9"
      }
    },
    {
      "cell_type": "code",
      "source": [
        "plt.figure(figsize=(40,5))\n",
        "plt.subplot(1,2,1)\n",
        "sns.countplot('market_segment',data = hotel_df)\n",
        "plt.legend"
      ],
      "metadata": {
        "id": "f7KTC0TFYlHe",
        "outputId": "0d64727c-e524-41d6-ca37-6a34f15ab87d",
        "colab": {
          "base_uri": "https://localhost:8080/",
          "height": 407
        }
      },
      "execution_count": null,
      "outputs": [
        {
          "output_type": "stream",
          "name": "stderr",
          "text": [
            "/usr/local/lib/python3.7/dist-packages/seaborn/_decorators.py:43: FutureWarning: Pass the following variable as a keyword arg: x. From version 0.12, the only valid positional argument will be `data`, and passing other arguments without an explicit keyword will result in an error or misinterpretation.\n",
            "  FutureWarning\n"
          ]
        },
        {
          "output_type": "execute_result",
          "data": {
            "text/plain": [
              "<function matplotlib.pyplot.legend>"
            ]
          },
          "metadata": {},
          "execution_count": 24
        },
        {
          "output_type": "display_data",
          "data": {
            "text/plain": [
              "<Figure size 2880x360 with 1 Axes>"
            ],
            "image/png": "[encoded data removed]"
          },
          "metadata": {
            "needs_background": "light"
          }
        }
      ]
    },
    {
      "cell_type": "markdown",
      "source": [
        "so online TA(travel agent) is the most common channel for booking hotels compare than other hotels.\n",
        "\n",
        "Here we can see that most number of guest are making reservation through TA/TO channels which is travel agent and tour operator.\n",
        "\n"
      ],
      "metadata": {
        "id": "-1a4rCtDV6N0"
      }
    },
    {
      "cell_type": "markdown",
      "source": [
        "## Q.2 Which distribution channel brings better revenue genrating deal for hotels?"
      ],
      "metadata": {
        "id": "nA_bhds7Z9N3"
      }
    },
    {
      "cell_type": "code",
      "source": [
        "distribution_channel = hotel_df.groupby(['hotel'])['distribution_channel'].value_counts()"
      ],
      "metadata": {
        "id": "e9WVUaeqajic"
      },
      "execution_count": null,
      "outputs": []
    },
    {
      "cell_type": "code",
      "source": [
        "plt.rcParams['figure.figsize'] = (20,5)\n",
        "distribution_channel.plot(kind = 'line')\n",
        "plt.title('Distribution channel')\n",
        "plt.ylabel('no. of bookings')\n",
        "plt.xlabel('channels')"
      ],
      "metadata": {
        "colab": {
          "base_uri": "https://localhost:8080/",
          "height": 367
        },
        "id": "G1K9ad3VIAwz",
        "outputId": "d542d58d-53e0-4f75-dcb5-a8c7394d07c7"
      },
      "execution_count": null,
      "outputs": [
        {
          "output_type": "execute_result",
          "data": {
            "text/plain": [
              "Text(0.5, 0, 'channels')"
            ]
          },
          "metadata": {},
          "execution_count": 26
        },
        {
          "output_type": "display_data",
          "data": {
            "text/plain": [
              "<Figure size 1440x360 with 1 Axes>"
            ],
            "image/png": "[encoded data removed]"
          },
          "metadata": {
            "needs_background": "light"
          }
        }
      ]
    },
    {
      "cell_type": "markdown",
      "source": [
        "* Resort hotel has more revenue generating deals by direct and TA/TO channel.Resort hotel need to increase outreach on GDS to increase revenue.\n",
        "* GDS channel brings higher revnue generating deals for city hotel.City hotel can work to increase outreach on GDS channel to get more higher revenue generating deal."
      ],
      "metadata": {
        "id": "hsrAH0E0biYR"
      }
    },
    {
      "cell_type": "markdown",
      "source": [
        "# **Booking Cancellation Analysis**"
      ],
      "metadata": {
        "id": "79MlyYIyeBoz"
      }
    },
    {
      "cell_type": "markdown",
      "source": [
        "while doing booking cancellation Analysis of given hotel booking dataset,we answerd following qustions-\n",
        "\n"
      ],
      "metadata": {
        "id": "1asQKl84fFSB"
      }
    },
    {
      "cell_type": "markdown",
      "source": [
        "## Q.1 Which hotel has higher booking cancellations rate?"
      ],
      "metadata": {
        "id": "yy4M115gRx2q"
      }
    },
    {
      "cell_type": "code",
      "source": [
        "hotel_df['is_canceled'] = hotel_df.is_canceled.replace([1,0], ['canceled', 'not_canceled'])\n",
        "canceled_data = hotel_df['is_canceled']\n",
        "sns.countplot(canceled_data)\n",
        "plt.figure(figsize=(5,10))"
      ],
      "metadata": {
        "id": "eXxPHqofSO2p",
        "outputId": "943f147c-9a17-464e-a96e-d7cac7a15068",
        "colab": {
          "base_uri": "https://localhost:8080/",
          "height": 425
        }
      },
      "execution_count": null,
      "outputs": [
        {
          "output_type": "stream",
          "name": "stderr",
          "text": [
            "/usr/local/lib/python3.7/dist-packages/seaborn/_decorators.py:43: FutureWarning: Pass the following variable as a keyword arg: x. From version 0.12, the only valid positional argument will be `data`, and passing other arguments without an explicit keyword will result in an error or misinterpretation.\n",
            "  FutureWarning\n"
          ]
        },
        {
          "output_type": "execute_result",
          "data": {
            "text/plain": [
              "<Figure size 360x720 with 0 Axes>"
            ]
          },
          "metadata": {},
          "execution_count": 27
        },
        {
          "output_type": "display_data",
          "data": {
            "text/plain": [
              "<Figure size 1440x360 with 1 Axes>"
            ],
            "image/png": "[encoded data removed]"
          },
          "metadata": {
            "needs_background": "light"
          }
        },
        {
          "output_type": "display_data",
          "data": {
            "text/plain": [
              "<Figure size 360x720 with 0 Axes>"
            ]
          },
          "metadata": {}
        }
      ]
    },
    {
      "cell_type": "markdown",
      "source": [
        "  In above graph,\n",
        "* Blue colour stands for City hotel.\n",
        "* Orange colour stands for Resort hotel.\n"
      ],
      "metadata": {
        "id": "TFheQf5dSa-x"
      }
    },
    {
      "cell_type": "markdown",
      "source": [
        "so far, we can conclude here that City hotel has higher booking cancellations rate than Resort hotel."
      ],
      "metadata": {
        "id": "ZdSqzdtCTMh4"
      }
    },
    {
      "cell_type": "markdown",
      "source": [
        "# Q2. which hotel has higher lead time?"
      ],
      "metadata": {
        "id": "Cs67K6y7fST0"
      }
    },
    {
      "cell_type": "code",
      "source": [
        "lead_time = hotel_df.groupby('hotel')['lead_time'].median().reset_index().rename(columns = {'lead_time':'median_lead_time'})"
      ],
      "metadata": {
        "id": "lcP3-GG06Wu-"
      },
      "execution_count": null,
      "outputs": []
    },
    {
      "cell_type": "code",
      "source": [
        "plt.figure(figsize = (5,5))\n",
        "sns.barplot(x = lead_time['hotel'], y = lead_time['median_lead_time'] )\n",
        "plt.show()"
      ],
      "metadata": {
        "colab": {
          "base_uri": "https://localhost:8080/",
          "height": 334
        },
        "id": "Z8h9af45QkR_",
        "outputId": "b0b87472-196b-46c9-ec1d-f2a559318844"
      },
      "execution_count": null,
      "outputs": [
        {
          "output_type": "display_data",
          "data": {
            "text/plain": [
              "<Figure size 360x360 with 1 Axes>"
            ],
            "image/png": "[encoded data removed]"
          },
          "metadata": {
            "needs_background": "light"
          }
        }
      ]
    },
    {
      "cell_type": "markdown",
      "source": [
        "City hotel has slightly higher median lead time,than the Resort hotel."
      ],
      "metadata": {
        "id": "UVSAvaEJQnyv"
      }
    },
    {
      "cell_type": "markdown",
      "source": [
        "# **Time Wise Analysis**"
      ],
      "metadata": {
        "id": "5Rszmxa166qS"
      }
    },
    {
      "cell_type": "markdown",
      "source": [
        "while doing time wise Analysis of given hotel booking dataset,we answerd following qustions-"
      ],
      "metadata": {
        "id": "H6nY52xo7G86"
      }
    },
    {
      "cell_type": "markdown",
      "source": [
        "#Q.1 What are the most busy month of hotels?"
      ],
      "metadata": {
        "id": "BNN1agOQ7bDp"
      }
    },
    {
      "cell_type": "code",
      "source": [
        "plt.figure(figsize=(40,5))\n",
        "plt.subplot(1,2,1)\n",
        "sns.countplot('arrival_date_month',data = hotel_df,order = ['January', 'February', 'March', 'April', 'May', 'June', 'July',\n",
        "          'August', 'September', 'October', 'November', 'December'])"
      ],
      "metadata": {
        "colab": {
          "base_uri": "https://localhost:8080/",
          "height": 407
        },
        "id": "zXa1ICDK71Rj",
        "outputId": "5a5c574f-cbe1-46ad-adae-2bdf54228e65"
      },
      "execution_count": null,
      "outputs": [
        {
          "output_type": "stream",
          "name": "stderr",
          "text": [
            "/usr/local/lib/python3.7/dist-packages/seaborn/_decorators.py:43: FutureWarning: Pass the following variable as a keyword arg: x. From version 0.12, the only valid positional argument will be `data`, and passing other arguments without an explicit keyword will result in an error or misinterpretation.\n",
            "  FutureWarning\n"
          ]
        },
        {
          "output_type": "execute_result",
          "data": {
            "text/plain": [
              "<matplotlib.axes._subplots.AxesSubplot at 0x7f315c409950>"
            ]
          },
          "metadata": {},
          "execution_count": 30
        },
        {
          "output_type": "display_data",
          "data": {
            "text/plain": [
              "<Figure size 2880x360 with 1 Axes>"
            ],
            "image/png": "[encoded data removed]"
          },
          "metadata": {
            "needs_background": "light"
          }
        }
      ]
    },
    {
      "cell_type": "markdown",
      "source": [
        "According to month wise analysis of the data,we found that month of 'Auguest' is the most busy month for the hotels.We have very less number of bookings in the year ending and opening."
      ],
      "metadata": {
        "id": "LrzpBWqC8Keq"
      }
    },
    {
      "cell_type": "markdown",
      "source": [
        "#Q.2  which  hotel charges highest Average Daily Rate?"
      ],
      "metadata": {
        "id": "_XtV0hkG8hYl"
      }
    },
    {
      "cell_type": "code",
      "source": [
        "adr_df = hotel_df.groupby('hotel')['adr'].agg(np.mean).reset_index().rename(columns = {'adr':'average_adr'})   "
      ],
      "metadata": {
        "id": "yPGktu7W9Qeb"
      },
      "execution_count": null,
      "outputs": []
    },
    {
      "cell_type": "code",
      "source": [
        "plt.figure(figsize = (6,5))\n",
        "sns.barplot(x = adr_df['hotel'], y = adr_df['average_adr'] )\n",
        "plt.show()"
      ],
      "metadata": {
        "colab": {
          "base_uri": "https://localhost:8080/",
          "height": 334
        },
        "id": "BcyXCousROsF",
        "outputId": "4096f420-dea6-45d9-a489-e0c7c9f0a2ca"
      },
      "execution_count": null,
      "outputs": [
        {
          "output_type": "display_data",
          "data": {
            "text/plain": [
              "<Figure size 432x360 with 1 Axes>"
            ],
            "image/png": "[encoded data removed]"
          },
          "metadata": {
            "needs_background": "light"
          }
        }
      ]
    },
    {
      "cell_type": "markdown",
      "source": [
        "It seems that City hotel charges more average daily rate because it is more in demand.And on the other hand Resort hotel charges less average daily rate as it is in less demand."
      ],
      "metadata": {
        "id": "XUcvJj0WRUOo"
      }
    },
    {
      "cell_type": "markdown",
      "source": [
        "# **Important Qustion**"
      ],
      "metadata": {
        "id": "v6Wz6WKN9Pvk"
      }
    },
    {
      "cell_type": "markdown",
      "source": [
        "#Q.1 what are the diffrent reason for special request?"
      ],
      "metadata": {
        "id": "rlkCOk1G-BRC"
      }
    },
    {
      "cell_type": "code",
      "source": [
        "special_request_df = hotel_df.groupby(['hotel'])['total_of_special_requests'].value_counts()"
      ],
      "metadata": {
        "id": "tHJmNizP-ORh"
      },
      "execution_count": null,
      "outputs": []
    },
    {
      "cell_type": "code",
      "source": [
        "plt.rcParams['figure.figsize'] = (20,5)\n",
        "special_request_df.plot(kind = 'bar')\n",
        "plt.title('special_request')\n",
        "plt.ylabel('hotels')\n",
        "plt.xlabel('special request')"
      ],
      "metadata": {
        "colab": {
          "base_uri": "https://localhost:8080/",
          "height": 438
        },
        "id": "xR8UHMrK1Ta7",
        "outputId": "5bbfe2a1-7531-4c16-87e5-a3643942d58d"
      },
      "execution_count": null,
      "outputs": [
        {
          "output_type": "execute_result",
          "data": {
            "text/plain": [
              "Text(0.5, 0, 'special request')"
            ]
          },
          "metadata": {},
          "execution_count": 34
        },
        {
          "output_type": "display_data",
          "data": {
            "text/plain": [
              "<Figure size 1440x360 with 1 Axes>"
            ],
            "image/png": "[encoded data removed]"
          },
          "metadata": {
            "needs_background": "light"
          }
        }
      ]
    },
    {
      "cell_type": "markdown",
      "source": [
        "So as per our analysis,for special request we can say that City hotel has more special request than Resort hotel."
      ],
      "metadata": {
        "id": "c4OIOWmg1XEU"
      }
    },
    {
      "cell_type": "markdown",
      "source": [
        "#**conclusion**"
      ],
      "metadata": {
        "id": "A6zFBHsp_pCD"
      }
    },
    {
      "cell_type": "markdown",
      "source": [
        "After doing complete analysis of given hotel booking dataset,we came to the following conclusion-\n",
        "* Around 66.4% bookings are for City hotel and 33.6% are for Resort hotel,therfor City hotel is busier than Resort hotel.Also the overall Average Daily Rate of City hotel is slightly higher than Resort hotel.\n",
        "* Mostly guests stay for less than 23 days in City hotel and for longer stays Resort hotel is preferred.\n",
        "* Both hotels have significantly higher booking cancellation rate and very few guests less than 3% return for another booking in city hotel.5% guests return for stay in Resort hotel.\n",
        "* Most of the guests came from European Countries,with most no. of guest coming from Portugal.\n",
        "* Bed and breakfast is the most preferred meal by the both hotel guests.\n",
        "* Guests use diffrent channels for making booking out of which most preferred ways is TA/TO.\n",
        "* July-August are the most busiest months for both the hotels.\n",
        "* Within a month ,ADR(average daily revenue) gradually increase as month ends,with small sudden rise on weekends.\n",
        "* More number of people in guests result in more number of special request.\n",
        "* For customers ,generally the longer stays(more than 23days)can result in better deals in terms of low ADR.\n",
        "\n"
      ],
      "metadata": {
        "id": "uxyGC2wK_sXn"
      }
    },
    {
      "cell_type": "code",
      "source": [
        ""
      ],
      "metadata": {
        "id": "bH9lNPzgq6rC"
      },
      "execution_count": null,
      "outputs": []
    }
  ]
}